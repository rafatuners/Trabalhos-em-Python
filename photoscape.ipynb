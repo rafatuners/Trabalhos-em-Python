{
 "cells": [
  {
   "cell_type": "code",
   "execution_count": null,
   "id": "df4dd845",
   "metadata": {},
   "outputs": [],
   "source": [
    "import pyautogui\n",
    "import time\n",
    "import pyperclip\n",
    "\n",
    "#Determinar o Número de fotos\n",
    "\n",
    "N = int(input(\"Quantas fotos deseja editar: \"))\n",
    "\n",
    "\n",
    "#abrir photoscape\n",
    "\n",
    "pyautogui.click(x=90, y=1419)\n",
    "pyautogui.write(\"photo\")\n",
    "pyautogui.press(\"enter\")\n",
    "\n",
    "time.sleep(3)\n",
    "\n",
    "\n",
    "\n"
   ]
  },
  {
   "cell_type": "code",
   "execution_count": null,
   "id": "3d036238",
   "metadata": {},
   "outputs": [],
   "source": [
    "#selecionando a foto\n",
    "\n",
    "pyautogui.click(x=43, y=764)\n",
    "time.sleep(1)\n",
    "\n",
    "#editando\n",
    "\n",
    "#cor automática\n",
    "\n",
    "pyautogui.click(x=2356, y=362) #ajustes\n",
    "time.sleep(1)\n",
    "    \n",
    "for i in range (0,N):\n",
    "    pyautogui.click(x=2367, y=397) #cor automática\n",
    "    time.sleep(1)\n",
    "    pyautogui.click(x=2364, y=269) #aplicar\n",
    "    time.sleep(1)\n",
    "\n",
    "    #tonar nítido\n",
    "\n",
    "    pyautogui.click(x=2369, y=470) #tornar nítido\n",
    "    time.sleep(1)\n",
    "    pyautogui.click(x=2369, y=340) #aplicar\n",
    "    time.sleep(1)\n",
    "      \n",
    "    #salvar\n",
    "\n",
    "    pyautogui.hotkey(\"ctrl\", \"shift\", \"s\") #salvar\n",
    "    time.sleep(1)\n",
    "    pyautogui.press(\"tab\") #mudar para formato\n",
    "    pyautogui.press(\"right\") #selecionando formato\n",
    "    pyautogui.press(\"down\") #selecionando formato\n",
    "    pyautogui.press(\"enter\")\n",
    "    pyautogui.press(\"enter\") #salvando\n",
    "    time.sleep(3)\n",
    "\n",
    "    #pulando para próxima foto\n",
    "\n",
    "    pyautogui.hotkey(\"ctrl\", \"right\")\n",
    "    pyautogui.hotkey(\"ctrl\", \"right\")"
   ]
  },
  {
   "cell_type": "code",
   "execution_count": null,
   "id": "157c6253",
   "metadata": {},
   "outputs": [],
   "source": [
    "time.sleep(5)\n",
    "pyautogui.position ()"
   ]
  },
  {
   "cell_type": "markdown",
   "id": "0cdb9fcd",
   "metadata": {},
   "source": [
    "## "
   ]
  }
 ],
 "metadata": {
  "kernelspec": {
   "display_name": "Python 3.10.1 64-bit",
   "language": "python",
   "name": "python3"
  },
  "language_info": {
   "codemirror_mode": {
    "name": "ipython",
    "version": 3
   },
   "file_extension": ".py",
   "mimetype": "text/x-python",
   "name": "python",
   "nbconvert_exporter": "python",
   "pygments_lexer": "ipython3",
   "version": "3.10.1"
  },
  "vscode": {
   "interpreter": {
    "hash": "e1735dd0795dce195fb98475ccf229151ed44a61fb274eb18cdb7c8302916985"
   }
  }
 },
 "nbformat": 4,
 "nbformat_minor": 5
}
