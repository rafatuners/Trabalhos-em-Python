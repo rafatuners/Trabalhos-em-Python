{
 "cells": [
  {
   "cell_type": "code",
   "execution_count": 2,
   "id": "df4dd845",
   "metadata": {},
   "outputs": [],
   "source": [
    "import pyautogui\n",
    "import time\n",
    "import pyperclip\n",
    "\n",
    "#Determinar o Número de fotos\n",
    "\n",
    "N = int(input(\"Quantas fotos deseja editar: \"))\n",
    "\n",
    "\n",
    "#abrir photoscape\n",
    "\n",
    "pyautogui.click(x=90, y=1419)\n",
    "pyautogui.write(\"photo\")\n",
    "pyautogui.press(\"enter\")\n",
    "\n",
    "time.sleep(3)\n",
    "\n",
    "\n",
    "\n"
   ]
  },
  {
   "cell_type": "code",
   "execution_count": 3,
   "id": "3d036238",
   "metadata": {},
   "outputs": [
    {
     "ename": "KeyboardInterrupt",
     "evalue": "",
     "output_type": "error",
     "traceback": [
      "\u001b[1;31m---------------------------------------------------------------------------\u001b[0m",
      "\u001b[1;31mKeyboardInterrupt\u001b[0m                         Traceback (most recent call last)",
      "\u001b[1;32mc:\\Users\\Rafael\\Documents\\MeusProjetos\\Trabalhos-em-Python\\photoscape.ipynb Célula: 2\u001b[0m in \u001b[0;36m<cell line: 13>\u001b[1;34m()\u001b[0m\n\u001b[0;32m     <a href='vscode-notebook-cell:/c%3A/Users/Rafael/Documents/MeusProjetos/Trabalhos-em-Python/photoscape.ipynb#W1sZmlsZQ%3D%3D?line=36'>37</a>\u001b[0m \u001b[39m#pulando para próxima foto\u001b[39;00m\n\u001b[0;32m     <a href='vscode-notebook-cell:/c%3A/Users/Rafael/Documents/MeusProjetos/Trabalhos-em-Python/photoscape.ipynb#W1sZmlsZQ%3D%3D?line=38'>39</a>\u001b[0m pyautogui\u001b[39m.\u001b[39mhotkey(\u001b[39m\"\u001b[39m\u001b[39mctrl\u001b[39m\u001b[39m\"\u001b[39m, \u001b[39m\"\u001b[39m\u001b[39mright\u001b[39m\u001b[39m\"\u001b[39m)\n\u001b[1;32m---> <a href='vscode-notebook-cell:/c%3A/Users/Rafael/Documents/MeusProjetos/Trabalhos-em-Python/photoscape.ipynb#W1sZmlsZQ%3D%3D?line=39'>40</a>\u001b[0m pyautogui\u001b[39m.\u001b[39;49mhotkey(\u001b[39m\"\u001b[39;49m\u001b[39mctrl\u001b[39;49m\u001b[39m\"\u001b[39;49m, \u001b[39m\"\u001b[39;49m\u001b[39mright\u001b[39;49m\u001b[39m\"\u001b[39;49m)\n",
      "File \u001b[1;32mc:\\Users\\Rafael\\AppData\\Local\\Programs\\Python\\Python310\\lib\\site-packages\\pyautogui\\__init__.py:599\u001b[0m, in \u001b[0;36m_genericPyAutoGUIChecks.<locals>.wrapper\u001b[1;34m(*args, **kwargs)\u001b[0m\n\u001b[0;32m    597\u001b[0m failSafeCheck()\n\u001b[0;32m    598\u001b[0m returnVal \u001b[39m=\u001b[39m wrappedFunction(\u001b[39m*\u001b[39margs, \u001b[39m*\u001b[39m\u001b[39m*\u001b[39mkwargs)\n\u001b[1;32m--> 599\u001b[0m _handlePause(kwargs\u001b[39m.\u001b[39;49mget(\u001b[39m\"\u001b[39;49m\u001b[39m_pause\u001b[39;49m\u001b[39m\"\u001b[39;49m, \u001b[39mTrue\u001b[39;49;00m))\n\u001b[0;32m    600\u001b[0m \u001b[39mreturn\u001b[39;00m returnVal\n",
      "File \u001b[1;32mc:\\Users\\Rafael\\AppData\\Local\\Programs\\Python\\Python310\\lib\\site-packages\\pyautogui\\__init__.py:643\u001b[0m, in \u001b[0;36m_handlePause\u001b[1;34m(_pause)\u001b[0m\n\u001b[0;32m    641\u001b[0m \u001b[39mif\u001b[39;00m _pause:\n\u001b[0;32m    642\u001b[0m     \u001b[39massert\u001b[39;00m \u001b[39misinstance\u001b[39m(PAUSE, \u001b[39mint\u001b[39m) \u001b[39mor\u001b[39;00m \u001b[39misinstance\u001b[39m(PAUSE, \u001b[39mfloat\u001b[39m)\n\u001b[1;32m--> 643\u001b[0m     time\u001b[39m.\u001b[39;49msleep(PAUSE)\n",
      "\u001b[1;31mKeyboardInterrupt\u001b[0m: "
     ]
    }
   ],
   "source": [
    "#selecionando a foto\n",
    "\n",
    "pyautogui.click(x=43, y=764)\n",
    "time.sleep(1)\n",
    "\n",
    "#editando\n",
    "\n",
    "#cor automática\n",
    "\n",
    "pyautogui.click(x=2356, y=362) #ajustes\n",
    "time.sleep(1)\n",
    "    \n",
    "for i in range (0,N):\n",
    "    pyautogui.click(x=2367, y=397) #cor automática\n",
    "    time.sleep(1)\n",
    "    pyautogui.click(x=2364, y=269) #aplicar\n",
    "    time.sleep(1)\n",
    "\n",
    "    #tonar nítido\n",
    "\n",
    "    pyautogui.click(x=2369, y=470) #tornar nítido\n",
    "    time.sleep(1)\n",
    "    pyautogui.click(x=2369, y=340) #aplicar\n",
    "    time.sleep(1)\n",
    "      \n",
    "    #salvar\n",
    "\n",
    "    pyautogui.hotkey(\"ctrl\", \"shift\", \"s\") #salvar\n",
    "    time.sleep(1)\n",
    "    pyautogui.press(\"tab\") #mudar para formato\n",
    "    pyautogui.press(\"right\") #selecionando formato\n",
    "    pyautogui.press(\"down\") #selecionando formato\n",
    "    pyautogui.press(\"enter\")\n",
    "    pyautogui.press(\"enter\") #salvando\n",
    "    time.sleep(3)\n",
    "\n",
    "    #pulando para próxima foto\n",
    "\n",
    "    pyautogui.hotkey(\"ctrl\", \"right\")\n",
    "    pyautogui.hotkey(\"ctrl\", \"right\")"
   ]
  },
  {
   "cell_type": "code",
   "execution_count": null,
   "id": "157c6253",
   "metadata": {},
   "outputs": [
    {
     "data": {
      "text/plain": [
       "Point(x=2369, y=340)"
      ]
     },
     "execution_count": 3,
     "metadata": {},
     "output_type": "execute_result"
    }
   ],
   "source": [
    "time.sleep(5)\n",
    "pyautogui.position ()"
   ]
  },
  {
   "cell_type": "markdown",
   "id": "0cdb9fcd",
   "metadata": {},
   "source": [
    "## "
   ]
  }
 ],
 "metadata": {
  "kernelspec": {
   "display_name": "Python 3.10.1 64-bit",
   "language": "python",
   "name": "python3"
  },
  "language_info": {
   "codemirror_mode": {
    "name": "ipython",
    "version": 3
   },
   "file_extension": ".py",
   "mimetype": "text/x-python",
   "name": "python",
   "nbconvert_exporter": "python",
   "pygments_lexer": "ipython3",
   "version": "3.10.1"
  },
  "vscode": {
   "interpreter": {
    "hash": "e1735dd0795dce195fb98475ccf229151ed44a61fb274eb18cdb7c8302916985"
   }
  }
 },
 "nbformat": 4,
 "nbformat_minor": 5
}
